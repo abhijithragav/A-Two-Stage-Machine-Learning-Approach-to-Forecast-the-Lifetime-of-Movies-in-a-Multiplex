{
 "cells": [
  {
   "cell_type": "code",
   "execution_count": 59,
   "metadata": {
    "ExecuteTime": {
     "end_time": "2019-01-28T05:39:42.961478Z",
     "start_time": "2019-01-28T05:39:42.955697Z"
    }
   },
   "outputs": [],
   "source": [
    "# This code is for adaptive GPU usage\n",
    "import keras.backend as K\n",
    "cfg = K.tf.ConfigProto()\n",
    "cfg.gpu_options.allow_growth = True\n",
    "K.set_session(K.tf.Session(config=cfg))"
   ]
  },
  {
   "cell_type": "code",
   "execution_count": null,
   "metadata": {},
   "outputs": [],
   "source": [
    "import datetime\n",
    "import pandas as pd\n",
    "import numpy as np"
   ]
  },
  {
   "cell_type": "markdown",
   "metadata": {},
   "source": [
    "# Creating the Weekly DataFrame "
   ]
  },
  {
   "cell_type": "code",
   "execution_count": 56,
   "metadata": {
    "ExecuteTime": {
     "end_time": "2019-01-18T17:30:38.966049Z",
     "start_time": "2019-01-18T17:30:38.945169Z"
    },
    "code_folding": []
   },
   "outputs": [],
   "source": [
    "def addWeek(df):\n",
    "    # Creating Last Date Column\n",
    "    l_date_df = df[['Movie']]\n",
    "    l_date_df['LastDate'] = pd.to_datetime(df['dateofshow'])\n",
    "    l_date_df = l_date_df.groupby(\n",
    "        ['Movie'], as_index=False).aggregate({'LastDate': 'max'})\n",
    "    df = pd.merge(df, l_date_df, left_on=['Movie'], right_on=[\n",
    "                  'Movie'], how='left', copy=False)\n",
    "    df['ReleaseDate'] = pd.to_datetime(df['ReleaseDate'])\n",
    "\n",
    "    # This is a Monday\n",
    "    df = df[df['ReleaseDate'] > '2014-03-10'].sort_values(by=['dateofshow'])\n",
    "    print(max(df['dateofshow']), \"   \", min(df['ReleaseDate']))\n",
    "\n",
    "    int_rep = []\n",
    "    date = []\n",
    "    for i in range(1, 1370):\n",
    "        date.append(datetime.date(2014, 3, 12) +\n",
    "                    datetime.timedelta(days=i))  # date between\n",
    "        int_rep.append(i)\n",
    "\n",
    "    # max(df['dateofshow'])-min(df['ReleaseDate'])  = 1345 Days\n",
    "    data = {'date': date,\n",
    "            'int_rep': int_rep\n",
    "            }\n",
    "    week_matrix = pd.DataFrame(data)\n",
    "    week_matrix['week'] = (week_matrix['int_rep']//7)\n",
    "    week_matrix['date'] = pd.to_datetime(week_matrix['date']).dt.date\n",
    "    df['dateofshow'] = pd.to_datetime(df['dateofshow'])\n",
    "\n",
    "    df = df[df['dateofshow'] > '2015-01-5'].sort_values(by=['dateofshow'])\n",
    "    df['dateofshow'] = pd.to_datetime(df['dateofshow']).dt.date\n",
    "    df['ReleaseDate'] = pd.to_datetime(df['ReleaseDate']).dt.date\n",
    "    df['LastDate'] = pd.to_datetime(df['LastDate']).dt.date\n",
    "\n",
    "    df = pd.merge(df, week_matrix, left_on=[\n",
    "                  'dateofshow'], right_on=['date'], how='left')\n",
    "    df = pd.merge(df, week_matrix, left_on=[\n",
    "                  'ReleaseDate'], right_on=['date'], how='left')\n",
    "    df = pd.merge(df, week_matrix, left_on=[\n",
    "                  'LastDate'], right_on=['date'], how='left')\n",
    "\n",
    "    na_df = df[df.isnull().any(axis=1)]\n",
    "    # df=df.dropna()\n",
    "\n",
    "    week_matrix['date'] = pd.to_datetime(week_matrix['date'])\n",
    "    week_matrix_daywise = week_matrix\n",
    "    week_matrix = week_matrix.groupby(['week'], as_index=False).aggregate(\n",
    "        {'date': 'max'})  # commented to get all the dates\n",
    "    week_matrix['Month'] = week_matrix[\"date\"].dt.month\n",
    "    # week_matrix.drop(['date'],axis=1,inplace=True)\n",
    "    # Week _ X same as dateouivalentf show but weak eq\n",
    "\n",
    "    return df, week_matrix, na_df, week_matrix_daywise"
   ]
  },
  {
   "cell_type": "code",
   "execution_count": 57,
   "metadata": {
    "ExecuteTime": {
     "end_time": "2019-01-18T17:30:40.191912Z",
     "start_time": "2019-01-18T17:30:39.436800Z"
    },
    "scrolled": true
   },
   "outputs": [
    {
     "name": "stderr",
     "output_type": "stream",
     "text": [
      "/opt/anaconda/lib/python3.6/site-packages/ipykernel_launcher.py:4: SettingWithCopyWarning: \n",
      "A value is trying to be set on a copy of a slice from a DataFrame.\n",
      "Try using .loc[row_indexer,col_indexer] = value instead\n",
      "\n",
      "See the caveats in the documentation: http://pandas.pydata.org/pandas-docs/stable/indexing.html#indexing-view-versus-copy\n",
      "  after removing the cwd from sys.path.\n"
     ]
    },
    {
     "name": "stdout",
     "output_type": "stream",
     "text": [
      "2017-11-18     2014-03-14 00:00:00\n"
     ]
    }
   ],
   "source": [
    "df = pd.read_csv('Daywise_model.csv', index_col=0)\n",
    "week_df, week_matrix, na_df, week_matrix_daywise = addWeek(df)\n",
    "week_df['Lifetime'] = week_df['week']-week_df['week_y']\n",
    "week_df['WeeksSinceRelease'] = week_df['week_x']-week_df['week_y']\n",
    "\n",
    "week_df = week_df.groupby(['week_x', 'Movie', 'week_y', 'week', 'Lifetime', 'WeeksSinceRelease', 'LastDate', 'ReleaseDate', 'date'], as_index=False).aggregate(\n",
    "    {'OccAtShow': 'sum', 'OccAtPred': 'sum', 'Capacity': 'sum',\n",
    "     'Cap_110': 'sum', 'Cap_120': 'sum', 'Cap_131': 'sum', 'Cap_310': 'sum', 'Shows': 'sum', 'BLUSH': 'sum',\n",
    "     'CARVE': 'sum', 'FRAME': 'sum', 'KITES': 'sum', 'PLUSH': 'sum', 'SPOT': 'sum',\n",
    "     'STREAK': 'sum', 'WEAVE': 'sum', 'trans_1': 'sum', 'trans_2': 'sum', 'trans_3': 'sum', 'trans_4': 'sum', 'trans_5': 'sum',\n",
    "     'trans_6': 'sum', 'trans_7': 'sum', 'trans_8': 'sum', 'trans_9': 'sum', 'trans_10': 'sum', 'trans_11': 'sum',\n",
    "     'trans_12': 'sum', 'dateofshow': 'count'})\n",
    "\n",
    "week_df = week_df.sort_values(by=['Movie', 'week_x'])"
   ]
  },
  {
   "cell_type": "code",
   "execution_count": 59,
   "metadata": {
    "ExecuteTime": {
     "end_time": "2019-01-18T17:30:40.999637Z",
     "start_time": "2019-01-18T17:30:40.212462Z"
    }
   },
   "outputs": [],
   "source": [
    "week_df['OccCumSum'] = week_df.groupby(by=['Movie'], as_index=False)[\n",
    "    'OccAtShow'].transform(lambda x: x.cumsum()) # Cumulative Sum of Occupancy since the inception of the movie\n",
    "week_df['CapCumSum'] = week_df.groupby(by=['Movie'], as_index=False)[\n",
    "    'Capacity'].transform(lambda x: x.cumsum())  # Cumulative Sum of Capacity Allocated to a movie\n",
    "week_df[\"OccCumSumPer\"] = week_df[\"OccCumSum\"]/week_df[\"CapCumSum\"] # Normalized to percentage\n",
    "week_df.rename(columns={'week_x': 'WeekOfShow', 'week_y': 'ReleaseWeek',\n",
    "                        'week': 'LastWeek', 'dateofshow': 'DaysShowedInWeek'}, inplace=True)\n",
    "mask = week_df.WeeksSinceRelease == 0\n",
    "week_df.loc[mask, \"NewRelease\"] = 1 # New Movie Releases\n",
    "week_df.fillna(0, inplace=True)\n",
    "new_releases = week_df.groupby(['WeekOfShow'], as_index=False).aggregate({\n",
    "    'NewRelease': 'sum'})  # Getting Other Movie Releases during the course of the week\n",
    "week_df = pd.merge(week_df, new_releases, on=['WeekOfShow'], how='left')\n",
    "week_df.drop(['NewRelease_x'], axis=1, inplace=True)\n",
    "week_df.rename(columns={'NewRelease_y': 'OtherReleasesInWeek',\n",
    "                        'OccAtShow': 'OccAtWeek', 'Shows': 'ShowsInWeek'}, inplace=True) # Adding OtherReleasesInWeek as a feature\n",
    "week_df.sort_values(\n",
    "    by=['Movie', 'WeekOfShow', 'WeeksSinceRelease'], inplace=True)\n",
    "\n",
    "week_df['Walkin'] = week_df['OccAtWeek']-week_df['OccAtPred']  # Walkin represent late bookings\n",
    "week_df['WalkinPer'] = week_df['Walkin']/week_df['Capacity']   # Normalized\n",
    "week_df['OccPer'] = week_df['OccAtWeek']/week_df['Capacity']   # Normalized\n",
    "week_df['Target'] = week_df[\"Lifetime\"]-week_df[\"WeeksSinceRelease\"]\n",
    "\n",
    "# Adding Date to week_df\n",
    "week_df.drop(['date'], axis=1, inplace=True)\n",
    "week_df = pd.merge(week_df, week_matrix, left_on=[\n",
    "                   'WeekOfShow'], right_on=['week'], how='left')"
   ]
  },
  {
   "cell_type": "code",
   "execution_count": null,
   "metadata": {},
   "outputs": [],
   "source": [
    "week_df.to_csv(\"Week_df.csv\")"
   ]
  }
 ],
 "metadata": {
  "kernelspec": {
   "display_name": "Python 3",
   "language": "python",
   "name": "python3"
  },
  "language_info": {
   "codemirror_mode": {
    "name": "ipython",
    "version": 3
   },
   "file_extension": ".py",
   "mimetype": "text/x-python",
   "name": "python",
   "nbconvert_exporter": "python",
   "pygments_lexer": "ipython3",
   "version": "3.6.8"
  }
 },
 "nbformat": 4,
 "nbformat_minor": 2
}
