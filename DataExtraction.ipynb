{
 "cells": [
  {
   "cell_type": "markdown",
   "metadata": {
    "nbpresent": {
     "id": "7b0dcf74-37c6-4808-905b-caaf573b901a"
    }
   },
   "source": [
    "### Extract data from JSON"
   ]
  },
  {
   "cell_type": "code",
   "execution_count": 1,
   "metadata": {
    "ExecuteTime": {
     "end_time": "2018-10-11T09:35:03.564621Z",
     "start_time": "2018-10-11T09:35:03.202275Z"
    },
    "nbpresent": {
     "id": "e1f0d064-9608-4d22-b9fa-585b422997cf"
    }
   },
   "outputs": [],
   "source": [
    "import pandas as pd\n",
    "import pickle\n",
    "from time import time\n",
    "from datetime import datetime, timedelta\n",
    "import numpy as np\n",
    "from pprint import pprint\n",
    "from multiprocessing import Pool, cpu_count\n",
    "from os import listdir, remove\n",
    "from os.path import exists\n",
    "import json\n",
    "import statistics"
   ]
  },
  {
   "cell_type": "code",
   "execution_count": 2,
   "metadata": {
    "ExecuteTime": {
     "end_time": "2018-10-11T09:35:03.573998Z",
     "start_time": "2018-10-11T09:35:03.567799Z"
    },
    "nbpresent": {
     "id": "f0548d35-ae8b-40ef-955b-29abe30421ba"
    }
   },
   "outputs": [],
   "source": [
    "def readCSV(file_name):\n",
    "    df = pd.read_csv(file_name, index_col=0)\n",
    "    try:\n",
    "        df['DateTimeTime'] = pd.to_datetime(df['DateTimeTime'])\n",
    "    except:\n",
    "        pass\n",
    "    try:\n",
    "        df['Date'] = pd.to_datetime(df['Date']).apply(datetime.date)\n",
    "    except:\n",
    "        pass\n",
    "    try:\n",
    "        df['Time'] = pd.to_datetime(df['Time']).apply(datetime.time)\n",
    "    except:\n",
    "        pass\n",
    "\n",
    "    return df"
   ]
  },
  {
   "cell_type": "code",
   "execution_count": 3,
   "metadata": {
    "ExecuteTime": {
     "end_time": "2018-10-11T09:35:03.583274Z",
     "start_time": "2018-10-11T09:35:03.577185Z"
    },
    "nbpresent": {
     "id": "3a8712af-290c-49e7-a44c-5cb8de847fae"
    }
   },
   "outputs": [],
   "source": [
    "def reindex(dataframe , sort_columns = ['DateTimeTime' , 'Screen' , 'Movie']):\n",
    "    dataframe = dataframe.sort_values(by=sort_columns)\n",
    "    dataframe.index = np.arange(len(dataframe))\n",
    "    return dataframe"
   ]
  },
  {
   "cell_type": "markdown",
   "metadata": {
    "nbpresent": {
     "id": "4974469d-e806-4d04-b571-8bfaa6544c76"
    }
   },
   "source": [
    "### Forming the basic keys (movie , showtime , screen)"
   ]
  },
  {
   "cell_type": "code",
   "execution_count": 4,
   "metadata": {
    "ExecuteTime": {
     "end_time": "2018-10-11T09:35:03.714420Z",
     "start_time": "2018-10-11T09:35:03.701223Z"
    },
    "nbpresent": {
     "id": "885ceee0-7adc-4165-8900-7d2aa9552619"
    }
   },
   "outputs": [],
   "source": [
    "def initializeDataframe(d, norm_df, df_columns):\n",
    "    temp_df_list = []\n",
    "    for movie, date_slot in d.items():\n",
    "        for date_time, data in date_slot.items():\n",
    "            for screen, values in data.items():\n",
    "                max_trans_time = values[12]\n",
    "                row = [movie, date_time, screen, max_trans_time]\n",
    "                temp_df_list.append(row)\n",
    "    norm_df = pd.DataFrame(temp_df_list, columns=df_columns)\n",
    "    norm_df['DateTimeTime'] = pd.to_datetime(norm_df['DateTime'])\n",
    "    norm_df['DateTime'] = norm_df['DateTime'].apply(np.str)\n",
    "    norm_df['Date'] = norm_df['DateTimeTime'].apply(datetime.date)\n",
    "    norm_df['Time'] = norm_df['DateTimeTime'].apply(datetime.time)\n",
    "    norm_df['MaxTransTime'] = pd.to_datetime(norm_df['MaxTransTime'])\n",
    "    return reindex(norm_df)"
   ]
  },
  {
   "cell_type": "markdown",
   "metadata": {
    "nbpresent": {
     "id": "651f8143-11a1-4bb2-8dba-644c91fbbbe4"
    }
   },
   "source": [
    "### Get the mean value for given dataframe and column"
   ]
  },
  {
   "cell_type": "code",
   "execution_count": 5,
   "metadata": {
    "ExecuteTime": {
     "end_time": "2018-10-11T09:35:04.108059Z",
     "start_time": "2018-10-11T09:35:04.101643Z"
    }
   },
   "outputs": [],
   "source": [
    "def getNormalizationParams(dataframe, column):\n",
    "    try:\n",
    "        values = dataframe[column].values\n",
    "        return (statistics.mean(values), statistics.stdev(values))\n",
    "    except:\n",
    "        return None"
   ]
  },
  {
   "cell_type": "code",
   "execution_count": 6,
   "metadata": {
    "ExecuteTime": {
     "end_time": "2018-10-11T09:35:04.529029Z",
     "start_time": "2018-10-11T09:35:04.521868Z"
    }
   },
   "outputs": [],
   "source": [
    "def getMeanDeviation(dataframe):\n",
    "    norm_columns = norm_df.columns\n",
    "    norm_dict = {}\n",
    "    for column in norm_columns:\n",
    "        ret_mean = getNormalizationParams(norm_df, column)\n",
    "        if ret_mean != None:\n",
    "            norm_dict[column] = ret_mean\n",
    "\n",
    "    return norm_dict"
   ]
  },
  {
   "cell_type": "markdown",
   "metadata": {
    "nbpresent": {
     "id": "9a8dcb8b-f6b6-4cf9-be8c-41df4c191cf3"
    }
   },
   "source": [
    "### Removing Overlapping Shows in a day"
   ]
  },
  {
   "cell_type": "code",
   "execution_count": 7,
   "metadata": {
    "ExecuteTime": {
     "end_time": "2018-10-11T09:35:05.090356Z",
     "start_time": "2018-10-11T09:35:05.071900Z"
    },
    "nbpresent": {
     "id": "354cb543-a3ae-43a0-b460-ee7c60809d06"
    }
   },
   "outputs": [],
   "source": [
    "def showsPerDay(dataframe):\n",
    "    shows_on_date = {}\n",
    "    for d in dataframe['Date'].unique():\n",
    "        n_shows = len(dataframe[dataframe['Date'] == d])\n",
    "        if n_shows not in shows_on_date:\n",
    "            shows_on_date[n_shows] = []\n",
    "        shows_on_date[n_shows].append(d)\n",
    "    return shows_on_date\n",
    "\n",
    "\n",
    "def removeOverlappingShows(dataframe):\n",
    "    overlapping = []\n",
    "    screens = dataframe['Screen'].unique()\n",
    "    for screen in screens:\n",
    "        screen_df = dataframe[dataframe['Screen'] == screen]\n",
    "        for date in screen_df['Date'].unique():\n",
    "            temp_df = screen_df[screen_df['Date'] == date]\n",
    "            for i in range(len(temp_df)-1):\n",
    "                if temp_df.iloc[i+1]['DateTimeTime'] - temp_df.iloc[i]['DateTimeTime'] <= timedelta(hours=1, minutes=30):\n",
    "                    overlapping.append(temp_df.index[i+1] if temp_df.iloc[i]['MaxTransTime']\n",
    "                                       > temp_df.iloc[i+1]['MaxTransTime'] else temp_df.index[i])\n",
    "    overlapping = list(set(overlapping))\n",
    "    dataframe.drop(overlapping, inplace=True)\n",
    "    print(f'Dropped {len(overlapping)} rows')\n",
    "\n",
    "    return reindex(dataframe)"
   ]
  },
  {
   "cell_type": "markdown",
   "metadata": {
    "nbpresent": {
     "id": "6de63da3-c0bd-4898-8fe1-e2d592c339a0"
    }
   },
   "source": [
    "### New adapter to pool"
   ]
  },
  {
   "cell_type": "code",
   "execution_count": 8,
   "metadata": {
    "ExecuteTime": {
     "end_time": "2018-10-11T09:35:06.048173Z",
     "start_time": "2018-10-11T09:35:06.041623Z"
    },
    "nbpresent": {
     "id": "5f473b3d-b96d-4258-b75e-8dba82018c35"
    }
   },
   "outputs": [],
   "source": [
    "def getSupply(dataframe):\n",
    "    supply = []\n",
    "    for x in range(len(dataframe)):\n",
    "        supply.append((x, dataframe.iloc[x]))\n",
    "\n",
    "    return supply"
   ]
  },
  {
   "cell_type": "code",
   "execution_count": 9,
   "metadata": {
    "ExecuteTime": {
     "end_time": "2018-10-11T09:35:06.359916Z",
     "start_time": "2018-10-11T09:35:06.351521Z"
    },
    "nbpresent": {
     "id": "9a5e7628-683f-4dfb-a65f-15dedae7e5ce"
    }
   },
   "outputs": [],
   "source": [
    "def adapterToPool(dataframe, function, supply=[]):\n",
    "\n",
    "    if len(supply) == 0:\n",
    "        supply = getSupply(dataframe)\n",
    "\n",
    "    hold_values = []\n",
    "\n",
    "    try:\n",
    "        pool = Pool(num_pool_to_use)\n",
    "        hold_values = pool.map(function, supply)\n",
    "    finally:\n",
    "        pool.close()\n",
    "        pool.join()\n",
    "\n",
    "#     return pd.D(list(hold_values) , axis = 0)\n",
    "    return pd.DataFrame(hold_values)"
   ]
  },
  {
   "cell_type": "markdown",
   "metadata": {
    "nbpresent": {
     "id": "49d8b243-f97e-4045-8f0d-d0e9da5e275c"
    }
   },
   "source": [
    "### Generic Data Extraction"
   ]
  },
  {
   "cell_type": "code",
   "execution_count": 10,
   "metadata": {
    "ExecuteTime": {
     "end_time": "2018-10-11T09:35:07.052701Z",
     "start_time": "2018-10-11T09:35:07.012072Z"
    },
    "nbpresent": {
     "id": "5bca8b49-8f20-4850-ad24-27f2325e4253"
    }
   },
   "outputs": [],
   "source": [
    "def genericEnclosingFunction(supply):\n",
    "    def addCapacity(movie, date_time, screen):\n",
    "        cap = d[movie][date_time][screen][9]\n",
    "        return np.int(cap)\n",
    "\n",
    "    def addHeld(movie, date_time, screen):\n",
    "        seats_held = d[movie][date_time][screen][8]\n",
    "        return np.int(max(seats_held, 0))\n",
    "\n",
    "    def assignSlot(movie, date_time, screen):\n",
    "        time = pd.to_datetime(date_time)\n",
    "        hour = time.hour\n",
    "\n",
    "        if hour >= 20:\n",
    "            slot = 4  # night show\n",
    "        elif hour >= 17:\n",
    "            slot = 3  # evening show\n",
    "        elif hour >= 14:\n",
    "            slot = 2  # matinee show\n",
    "        elif hour >= 11:\n",
    "            slot = 1  # noon show\n",
    "        else:\n",
    "            slot = 0  # morning show\n",
    "        return slot\n",
    "\n",
    "    def timeToShow(movie, date_time, screen):\n",
    "        pred_time = pd.to_datetime(date_time) - timedelta(days=1)\n",
    "        pred_time = pred_time.replace(\n",
    "            hour=prediction_hour, minute=prediction_min)\n",
    "        pred_delta = pd.to_datetime(date_time) - pred_time\n",
    "        return ((pred_delta.days*24) + (pred_delta.seconds)*1.0/3600)\n",
    "\n",
    "    def addSeatsAvailAtShow(movie, date_time, screen):\n",
    "        held = d[movie][date_time][screen][8]\n",
    "        cap = d[movie][date_time][screen][9]\n",
    "        final_seats_sold = d[movie][date_time][screen][7] + held\n",
    "        final_seats_sold = min(final_seats_sold, cap)\n",
    "        avail_at_show = cap - final_seats_sold\n",
    "        return max(avail_at_show, 0)\n",
    "\n",
    "    def addFinalOccPer(occ_at_show, cap):\n",
    "        return occ_at_show * 100.0 / cap\n",
    "\n",
    "    # Works on prediction time (sundar)\n",
    "    def occupAtPredTime(movie, date_time, screen):\n",
    "\n",
    "        occup = d[movie][date_time][screen][8]  # seats held\n",
    "        time_stamps = d[movie][date_time][screen][2]\n",
    "        book_stamps = d[movie][date_time][screen][1]\n",
    "        show_time = pd.to_datetime(date_time)\n",
    "        prev_day = show_time - timedelta(days=1)\n",
    "        prev_day = prev_day.replace(\n",
    "            hour=prediction_hour, minute=prediction_min)\n",
    "        ind = -1\n",
    "\n",
    "        for i in range(len(time_stamps)):\n",
    "            if pd.to_datetime(time_stamps[i]) == prev_day:\n",
    "                ind = i\n",
    "                break\n",
    "\n",
    "        for i in range(ind + 1):\n",
    "            occup += book_stamps[i]\n",
    "        return occup\n",
    "\n",
    "    def addSeatsSoldPerTrans(movie, date_time, screen):\n",
    "        seats_sold_per_trans = d[movie][date_time][screen][10]\n",
    "        return seats_sold_per_trans\n",
    "\n",
    "    index, row = supply\n",
    "    movie = row['Movie']\n",
    "    date_time = row['DateTime']\n",
    "    screen = row['Screen']\n",
    "\n",
    "    capacity = addCapacity(movie, date_time, screen)\n",
    "    held = addHeld(movie, date_time, screen)\n",
    "    slot = assignSlot(movie, date_time, screen)\n",
    "    time_to_show = timeToShow(movie, date_time, screen)\n",
    "\n",
    "    seats_avail_at_show = addSeatsAvailAtShow(movie, date_time, screen)\n",
    "    seats_occ_at_show = capacity - seats_avail_at_show\n",
    "    occ_per = seats_occ_at_show/capacity\n",
    "\n",
    "    occ_at_pred = occupAtPredTime(movie, date_time, screen)\n",
    "    avail_at_pred = capacity - occ_at_pred\n",
    "\n",
    "    seats_sold_per_trans = addSeatsSoldPerTrans(movie, date_time, screen)\n",
    "\n",
    "    row['Capacity'] = capacity\n",
    "    row['Held'] = (max(held, 0) / capacity)\n",
    "    row['Slot'] = slot\n",
    "    row['TimeToShow'] = time_to_show\n",
    "    row['AvailAtPred'] = (max(avail_at_pred, 0) / capacity)\n",
    "    row['OccAtPred'] = min(occ_at_pred, capacity)\n",
    "    row['AvailAtShow'] = max(seats_avail_at_show, 0)\n",
    "    row['OccAtShow'] = min(seats_occ_at_show, capacity)\n",
    "    row['OccPer'] = row['OccAtShow']/capacity\n",
    "    row['SeatsSoldPerTrans'] = seats_sold_per_trans\n",
    "\n",
    "    return row"
   ]
  },
  {
   "cell_type": "markdown",
   "metadata": {
    "nbpresent": {
     "id": "dcbd0a69-f2dc-4bc5-a24c-feb2a2ea8b31"
    }
   },
   "source": [
    "### The Reverse Percentage Factor"
   ]
  },
  {
   "cell_type": "code",
   "execution_count": 11,
   "metadata": {
    "ExecuteTime": {
     "end_time": "2018-10-11T09:35:07.762757Z",
     "start_time": "2018-10-11T09:35:07.741555Z"
    },
    "nbpresent": {
     "id": "a5181f07-c75b-4538-a9a6-7c4bc9b973d1"
    }
   },
   "outputs": [],
   "source": [
    "def percentageEnclosingFunction(supply):\n",
    "    #Percentage (sundar)\n",
    "    def percentage(supply):\n",
    "        per = np.float(set_percentage)\n",
    "        index, row = supply\n",
    "        film = row['Movie']\n",
    "        showtime = row['DateTime']\n",
    "        screen = row[\"Screen\"]\n",
    "        capacity = d[film][showtime][screen][9]\n",
    "        held = d[film][showtime][screen][8]\n",
    "        time_stamps = d[film][showtime][screen][2]\n",
    "        book_stamps = list(d[film][showtime][screen][1])\n",
    "        sum_stamps = [0]\n",
    "        show_time = row['DateTimeTime']\n",
    "        prev_day = show_time - timedelta(days=1)\n",
    "        prev_day = prev_day.replace(\n",
    "            hour=prediction_hour, minute=prediction_min)\n",
    "        ind = 0\n",
    "\n",
    "        for i in range(len(book_stamps) - 1):\n",
    "            sum_stamps.append(book_stamps[i] + sum_stamps[-1])\n",
    "\n",
    "        for i in range(len(time_stamps)):\n",
    "            if pd.to_datetime(time_stamps[i]) == prev_day:\n",
    "                ind = i + 1\n",
    "                break\n",
    "\n",
    "        for i in range(ind):\n",
    "            if((held + sum_stamps[i]*1.0)/capacity >= per):\n",
    "                cond_stamp = pd.to_datetime(time_stamps[i])\n",
    "                time_diff = pd.to_datetime(time_stamps[-1]) - cond_stamp\n",
    "                return row['Capacity']/((24*time_diff.days) + (time_diff.seconds/3600))\n",
    "\n",
    "        return -1\n",
    "\n",
    "    index, row = supply\n",
    "    per = percentage(supply)\n",
    "    row[str(set_percentage * 100)] = per\n",
    "    return row"
   ]
  },
  {
   "cell_type": "markdown",
   "metadata": {
    "nbpresent": {
     "id": "ce12def2-a892-47aa-9f7c-c84632f08a01"
    }
   },
   "source": [
    "### Holiday Extraction. Single Threaded and Fast !"
   ]
  },
  {
   "cell_type": "code",
   "execution_count": 12,
   "metadata": {
    "ExecuteTime": {
     "end_time": "2018-10-11T09:35:08.882570Z",
     "start_time": "2018-10-11T09:35:08.871809Z"
    },
    "nbpresent": {
     "id": "8a26f326-7f2c-4dd1-9d13-1514955afa75"
    }
   },
   "outputs": [],
   "source": [
    "# Single Threaded and Faster!\n",
    "def holidayEncoding(norm_df):\n",
    "\n",
    "    norm_df['ShowDayHoliday'] = 0\n",
    "    norm_df['NextDayHoliday'] = 0\n",
    "\n",
    "    # Dictionary Containing the number of shows per day\n",
    "    shows_per_day = norm_df[['Date', 'Movie']].groupby(\n",
    "        by='Date').count().to_dict()['Movie']\n",
    "\n",
    "    holidays = np.array([date for date, nshows in shows_per_day.items(\n",
    "    ) if nshows >= holiday_num_show_factor])\n",
    "    # Updating the Show day holidays to 1\n",
    "    norm_df['ShowDayHoliday'][norm_df['Date'].isin(holidays)] = 1\n",
    "    # Updating the Next day holiday to 1\n",
    "    holidays = holidays - timedelta(days=1)\n",
    "    norm_df['NextDayHoliday'][norm_df['Date'].isin(holidays)] = 1\n",
    "\n",
    "    return norm_df"
   ]
  },
  {
   "cell_type": "markdown",
   "metadata": {
    "nbpresent": {
     "id": "42e89fee-3b8f-4e4d-a7bc-272af404387e"
    }
   },
   "source": [
    "### Calculating days since release"
   ]
  },
  {
   "cell_type": "code",
   "execution_count": 13,
   "metadata": {
    "ExecuteTime": {
     "end_time": "2018-10-11T09:35:09.810028Z",
     "start_time": "2018-10-11T09:35:09.801727Z"
    },
    "nbpresent": {
     "id": "6651e2cd-acf2-48c5-b3ea-e9a466c9b007"
    }
   },
   "outputs": [],
   "source": [
    "def daysSinceRelease(supply):\n",
    "    index, row = supply\n",
    "    movie = row['Movie']\n",
    "    date = row['Date']\n",
    "    release_date = pd.to_datetime(release_dates[movie])\n",
    "    day_diff = date - release_date.date()\n",
    "    row['DaysSinceRelease'] = (int)(\n",
    "        min(day_diff.days, cap_max_days_since_release))\n",
    "    return row"
   ]
  },
  {
   "cell_type": "code",
   "execution_count": 14,
   "metadata": {
    "ExecuteTime": {
     "end_time": "2018-10-11T09:35:10.425847Z",
     "start_time": "2018-10-11T09:35:10.411811Z"
    },
    "nbpresent": {
     "id": "f1dd81d2-59bd-4faf-9cfa-4bb997f8e45d"
    }
   },
   "outputs": [],
   "source": [
    "def calculateDSR(norm_df):\n",
    "    movies = norm_df['Movie'].unique()\n",
    "    global release_dates\n",
    "    movie_details = pd.DataFrame()\n",
    "    release_dates = {}\n",
    "    try:\n",
    "        movie_details = readCSV('movie_details.csv')\n",
    "    except:\n",
    "        pass\n",
    "    for movie in movies:\n",
    "        try:\n",
    "            release_dates[movie] = pd.to_datetime(\n",
    "                movie_details['ReleaseDate'][movie_details['Movie'] == movie].value[0])\n",
    "        except:\n",
    "            release_dates[movie] = min(\n",
    "                norm_df['DateTimeTime'][norm_df['Movie'] == movie])\n",
    "            next_index = 0\n",
    "            try:\n",
    "                next_index = max(movie_details.index) + 1\n",
    "            except:\n",
    "                pass\n",
    "            movie_details = movie_details.set_value(next_index, 'Movie', movie)\n",
    "            movie_details = movie_details.set_value(\n",
    "                next_index, 'ReleaseDate', release_dates[movie])\n",
    "\n",
    "    movie_details.to_csv('movie_details.csv')\n",
    "    adapterToPool(norm_df, daysSinceRelease)\n",
    "    del release_dates\n",
    "    return norm_df"
   ]
  },
  {
   "cell_type": "markdown",
   "metadata": {
    "nbpresent": {
     "id": "99e31e8c-3352-4334-9ca4-bb2029ae16ba"
    }
   },
   "source": [
    "### Adding Show History"
   ]
  },
  {
   "cell_type": "code",
   "execution_count": 15,
   "metadata": {
    "ExecuteTime": {
     "end_time": "2018-10-11T09:35:13.765980Z",
     "start_time": "2018-10-11T09:35:13.751917Z"
    }
   },
   "outputs": [],
   "source": [
    "def getShowHistory(supply, num_history_points=7):\n",
    "\n",
    "    index, row = supply\n",
    "    min_date = row['Date'] - timedelta(days=2)\n",
    "    history = norm_df[norm_df['Movie'] == row['Movie']][(\n",
    "        norm_df['Date'] <= min_date)].sort_values(by='Date', ascending=False)\n",
    "\n",
    "    history_pers = history['OccPer'].values[:num_history_points]\n",
    "    for i in range(num_history_points):\n",
    "        try:\n",
    "            row[f\"ShowHistory{i}\"] = history_pers[i]\n",
    "        except IndexError:\n",
    "            row[f\"ShowHistory{i}\"] = -1.0\n",
    "\n",
    "    try:\n",
    "        row['History_Mean'] = statistics.mean(history_pers)\n",
    "        row['History_Max'] = max(history_pers)\n",
    "        row['History_Min'] = min(history_pers)\n",
    "    except:\n",
    "        row['History_Mean'] = -1\n",
    "        row['History_Max'] = -1\n",
    "        row['History_Min'] = -1\n",
    "    return row"
   ]
  },
  {
   "cell_type": "markdown",
   "metadata": {},
   "source": [
    "### Adding Slot History"
   ]
  },
  {
   "cell_type": "code",
   "execution_count": 16,
   "metadata": {
    "ExecuteTime": {
     "end_time": "2018-10-11T09:35:13.786165Z",
     "start_time": "2018-10-11T09:35:13.770441Z"
    },
    "nbpresent": {
     "id": "a540ffd7-ab20-4803-a9a5-97d336833e08"
    }
   },
   "outputs": [],
   "source": [
    "def getSlotHistory(supply):\n",
    "        index, row = supply\n",
    "        date, screen, slot, is_holiday = row['Date']-timedelta(\n",
    "            days=2), row['Screen'], row['Slot'], row['ShowDayHoliday']\n",
    "        # Extra days to account for anomalies, hols and nothols\n",
    "        history = norm_df[(norm_df['Date'] <= date) & (\n",
    "            norm_df['Date'] > date-timedelta(days=180))]\n",
    "        history = history[history['Slot'] == slot]\n",
    "\n",
    "    #     Average Slot History\n",
    "        avg_slot_history = history[history['ShowDayHoliday'] == is_holiday][['OccPer', 'Date']].groupby(\n",
    "            'Date').mean().sort_index(ascending=False)['OccPer'].values[0:7].mean()\n",
    "        history = history[(history['Screen'] == screen) & (\n",
    "            history['ShowDayHoliday'] == is_holiday)].sort_values(by='Date', ascending=False)\n",
    "        history = list(history['OccPer'].values[0:7])\n",
    "\n",
    "        if len(history) != 7:\n",
    "            history += [-1]*(7-len(history))\n",
    "\n",
    "        for count in range(len(history)):\n",
    "            row[f'HolidayBasedHistory{count}'] = history[count]\n",
    "        row['AverageSlotHistory'] = avg_slot_history\n",
    "        return row"
   ]
  },
  {
   "cell_type": "markdown",
   "metadata": {
    "nbpresent": {
     "id": "66b48082-85cf-42d2-8e0a-2f93af9b75b2"
    }
   },
   "source": [
    "### Writing the df"
   ]
  },
  {
   "cell_type": "code",
   "execution_count": 20,
   "metadata": {
    "ExecuteTime": {
     "end_time": "2018-10-11T09:38:34.387528Z",
     "start_time": "2018-10-11T09:38:34.361443Z"
    },
    "code_folding": []
   },
   "outputs": [],
   "source": [
    "def getFeatureDataframe(inp, out=None, dataframe_from='1-Jan-2013'):\n",
    "    global d, prediction_hour, prediction_min, num_pool_to_use, holiday_num_show_factor, set_percentage, norm_df, cap_max_days_since_release\n",
    "\n",
    "    if(type(inp) == str):\n",
    "        d = json.load(open(inp))\n",
    "    else:\n",
    "        d = inp\n",
    "\n",
    "    # time of prediction on previous day, defaults to 3:00pm\n",
    "    prediction_hour, prediction_min = 15, 0\n",
    "    # number of processors to use to complete data extraction\n",
    "    num_pool_to_use = cpu_count() - 1\n",
    "    # if no. of shows greater than this val , then it is declared holiday else not holiday\n",
    "    holiday_num_show_factor = 40\n",
    "    # Hours taken from showtime to reach (set_percentage) fraction of the occupancy\n",
    "    set_percentage = 1.0\n",
    "    cap_max_days_since_release = 200\n",
    "    # Json file containing the data\n",
    "\n",
    "    df_columns = ['Movie', 'DateTime', 'Screen', 'MaxTransTime']\n",
    "    count = 0\n",
    "    norm_df = pd.DataFrame(columns=df_columns)\n",
    "    norm_df = initializeDataframe(d, norm_df, df_columns)\n",
    "    norm_df = norm_df[norm_df['Date'] >= pd.to_datetime(dataframe_from).date()]\n",
    "    print(\"Created basic DF\")\n",
    "\n",
    "    norm_df['MaxTransTime'] = pd.to_datetime(norm_df['MaxTransTime'])\n",
    "    norm_df = removeOverlappingShows(norm_df)\n",
    "    del norm_df['MaxTransTime']\n",
    "    print(\"Removed overlapping shows\")\n",
    "\n",
    "    norm_df = adapterToPool(norm_df, genericEnclosingFunction)\n",
    "    print(\"Added generic columns\")\n",
    "\n",
    "    set_percentage = 0.025\n",
    "    norm_df = adapterToPool(norm_df, percentageEnclosingFunction)\n",
    "    set_percentage = 0.05\n",
    "    norm_df = adapterToPool(norm_df, percentageEnclosingFunction)\n",
    "    set_percentage = 0.075\n",
    "    norm_df = adapterToPool(norm_df, percentageEnclosingFunction)\n",
    "    set_percentage = 0.10\n",
    "    norm_df = adapterToPool(norm_df, percentageEnclosingFunction)\n",
    "    set_percentage = 0.15\n",
    "    norm_df = adapterToPool(norm_df, percentageEnclosingFunction)\n",
    "    set_percentage = 0.20\n",
    "    norm_df = adapterToPool(norm_df, percentageEnclosingFunction)\n",
    "    print(\"Added percentage factors (3/6)\")\n",
    "\n",
    "    set_percentage = 0.30\n",
    "    norm_df = adapterToPool(norm_df, percentageEnclosingFunction)\n",
    "    set_percentage = 0.40\n",
    "    norm_df = adapterToPool(norm_df, percentageEnclosingFunction)\n",
    "    set_percentage = 0.50\n",
    "    norm_df = adapterToPool(norm_df, percentageEnclosingFunction)\n",
    "    print(\"Added percentage factors (6/6)\")\n",
    "\n",
    "    norm_df = holidayEncoding(norm_df)\n",
    "    print(\"Added holiday factors\")\n",
    "\n",
    "    norm_df = calculateDSR(norm_df)\n",
    "    print(\"Added days since release factor\")\n",
    "\n",
    "    norm_df = adapterToPool(norm_df, getShowHistory)\n",
    "    print(\"Added history features\")\n",
    "\n",
    "    norm_df = reindex(norm_df)\n",
    "\n",
    "    if out != None:\n",
    "        if '.csv' not in out:\n",
    "            out += '.csv'\n",
    "        norm_df.to_csv(out)\n",
    "        print(\"Written to csv\")\n",
    "\n",
    "    return norm_df"
   ]
  },
  {
   "cell_type": "code",
   "execution_count": 22,
   "metadata": {
    "ExecuteTime": {
     "end_time": "2018-10-11T10:01:22.394575Z",
     "start_time": "2018-10-11T09:38:54.451540Z"
    },
    "scrolled": false
   },
   "outputs": [
    {
     "name": "stdout",
     "output_type": "stream",
     "text": [
      "Created basic DF\n",
      "Dropped 778 rows\n",
      "Removed overlapping shows\n",
      "Added generic columns\n",
      "Added percentage factors (3/6)\n",
      "Added percentage factors (6/6)\n"
     ]
    },
    {
     "name": "stderr",
     "output_type": "stream",
     "text": [
      "/opt/anaconda/lib/python3.6/site-packages/ipykernel/__main__.py:12: SettingWithCopyWarning: \n",
      "A value is trying to be set on a copy of a slice from a DataFrame\n",
      "\n",
      "See the caveats in the documentation: http://pandas.pydata.org/pandas-docs/stable/indexing.html#indexing-view-versus-copy\n",
      "/opt/anaconda/lib/python3.6/site-packages/ipykernel/__main__.py:15: SettingWithCopyWarning: \n",
      "A value is trying to be set on a copy of a slice from a DataFrame\n",
      "\n",
      "See the caveats in the documentation: http://pandas.pydata.org/pandas-docs/stable/indexing.html#indexing-view-versus-copy\n",
      "/opt/anaconda/lib/python3.6/site-packages/ipykernel/__main__.py:20: FutureWarning: set_value is deprecated and will be removed in a future release. Please use .at[] or .iat[] accessors instead\n",
      "/opt/anaconda/lib/python3.6/site-packages/ipykernel/__main__.py:21: FutureWarning: set_value is deprecated and will be removed in a future release. Please use .at[] or .iat[] accessors instead\n"
     ]
    },
    {
     "name": "stdout",
     "output_type": "stream",
     "text": [
      "Added holiday factors\n",
      "Added days since release factor\n"
     ]
    },
    {
     "name": "stderr",
     "output_type": "stream",
     "text": [
      "/opt/anaconda/lib/python3.6/site-packages/ipykernel/__main__.py:5: UserWarning: Boolean Series key will be reindexed to match DataFrame index.\n",
      "/opt/anaconda/lib/python3.6/site-packages/ipykernel/__main__.py:5: UserWarning: Boolean Series key will be reindexed to match DataFrame index.\n",
      "/opt/anaconda/lib/python3.6/site-packages/ipykernel/__main__.py:5: UserWarning: Boolean Series key will be reindexed to match DataFrame index.\n",
      "/opt/anaconda/lib/python3.6/site-packages/ipykernel/__main__.py:5: UserWarning: Boolean Series key will be reindexed to match DataFrame index.\n",
      "/opt/anaconda/lib/python3.6/site-packages/ipykernel/__main__.py:5: UserWarning: Boolean Series key will be reindexed to match DataFrame index.\n",
      "/opt/anaconda/lib/python3.6/site-packages/ipykernel/__main__.py:5: UserWarning: Boolean Series key will be reindexed to match DataFrame index.\n",
      "/opt/anaconda/lib/python3.6/site-packages/ipykernel/__main__.py:5: UserWarning: Boolean Series key will be reindexed to match DataFrame index.\n",
      "/opt/anaconda/lib/python3.6/site-packages/ipykernel/__main__.py:5: UserWarning: Boolean Series key will be reindexed to match DataFrame index.\n",
      "/opt/anaconda/lib/python3.6/site-packages/ipykernel/__main__.py:5: UserWarning: Boolean Series key will be reindexed to match DataFrame index.\n",
      "/opt/anaconda/lib/python3.6/site-packages/ipykernel/__main__.py:5: UserWarning: Boolean Series key will be reindexed to match DataFrame index.\n",
      "/opt/anaconda/lib/python3.6/site-packages/ipykernel/__main__.py:5: UserWarning: Boolean Series key will be reindexed to match DataFrame index.\n",
      "/opt/anaconda/lib/python3.6/site-packages/ipykernel/__main__.py:5: UserWarning: Boolean Series key will be reindexed to match DataFrame index.\n",
      "/opt/anaconda/lib/python3.6/site-packages/ipykernel/__main__.py:5: UserWarning: Boolean Series key will be reindexed to match DataFrame index.\n",
      "/opt/anaconda/lib/python3.6/site-packages/ipykernel/__main__.py:5: UserWarning: Boolean Series key will be reindexed to match DataFrame index.\n",
      "/opt/anaconda/lib/python3.6/site-packages/ipykernel/__main__.py:5: UserWarning: Boolean Series key will be reindexed to match DataFrame index.\n"
     ]
    },
    {
     "name": "stdout",
     "output_type": "stream",
     "text": [
      "Added history features\n",
      "Written to csv\n"
     ]
    }
   ],
   "source": [
    "if __name__ == '__main__':\n",
    "    getFeatureDataframe(\n",
    "        '../SPI_movies/features/features_escape_added_minmaxtranstime.json', 'new_final_features.csv')"
   ]
  }
 ],
 "metadata": {
  "anaconda-cloud": {},
  "kernelspec": {
   "display_name": "Python 3",
   "language": "python",
   "name": "python3"
  },
  "language_info": {
   "codemirror_mode": {
    "name": "ipython",
    "version": 3
   },
   "file_extension": ".py",
   "mimetype": "text/x-python",
   "name": "python",
   "nbconvert_exporter": "python",
   "pygments_lexer": "ipython3",
   "version": "3.6.8"
  },
  "nbpresent": {
   "slides": {},
   "themes": {
    "default": "4628772b-eb32-4e12-b4d5-8b2c1c259f77",
    "theme": {
     "0a39007d-14ce-4e9f-83b4-4919e2af3ecf": {
      "backgrounds": {
       "dc7afa04-bf90-40b1-82a5-726e3cff5267": {
        "background-color": "31af15d2-7e15-44c5-ab5e-e04b16a89eff",
        "id": "dc7afa04-bf90-40b1-82a5-726e3cff5267"
       }
      },
      "id": "0a39007d-14ce-4e9f-83b4-4919e2af3ecf",
      "palette": {
       "19cc588f-0593-49c9-9f4b-e4d7cc113b1c": {
        "id": "19cc588f-0593-49c9-9f4b-e4d7cc113b1c",
        "rgb": [
         252,
         252,
         252
        ]
       },
       "31af15d2-7e15-44c5-ab5e-e04b16a89eff": {
        "id": "31af15d2-7e15-44c5-ab5e-e04b16a89eff",
        "rgb": [
         68,
         68,
         68
        ]
       },
       "50f92c45-a630-455b-aec3-788680ec7410": {
        "id": "50f92c45-a630-455b-aec3-788680ec7410",
        "rgb": [
         197,
         226,
         245
        ]
       },
       "c5cc3653-2ee1-402a-aba2-7caae1da4f6c": {
        "id": "c5cc3653-2ee1-402a-aba2-7caae1da4f6c",
        "rgb": [
         43,
         126,
         184
        ]
       },
       "efa7f048-9acb-414c-8b04-a26811511a21": {
        "id": "efa7f048-9acb-414c-8b04-a26811511a21",
        "rgb": [
         25.118061674008803,
         73.60176211453744,
         107.4819383259912
        ]
       }
      },
      "rules": {
       "a": {
        "color": "19cc588f-0593-49c9-9f4b-e4d7cc113b1c"
       },
       "blockquote": {
        "color": "50f92c45-a630-455b-aec3-788680ec7410",
        "font-size": 3
       },
       "code": {
        "font-family": "Anonymous Pro"
       },
       "h1": {
        "color": "19cc588f-0593-49c9-9f4b-e4d7cc113b1c",
        "font-family": "Merriweather",
        "font-size": 8
       },
       "h2": {
        "color": "19cc588f-0593-49c9-9f4b-e4d7cc113b1c",
        "font-family": "Merriweather",
        "font-size": 6
       },
       "h3": {
        "color": "50f92c45-a630-455b-aec3-788680ec7410",
        "font-family": "Lato",
        "font-size": 5.5
       },
       "h4": {
        "color": "c5cc3653-2ee1-402a-aba2-7caae1da4f6c",
        "font-family": "Lato",
        "font-size": 5
       },
       "h5": {
        "font-family": "Lato"
       },
       "h6": {
        "font-family": "Lato"
       },
       "h7": {
        "font-family": "Lato"
       },
       "li": {
        "color": "50f92c45-a630-455b-aec3-788680ec7410",
        "font-size": 3.25
       },
       "pre": {
        "font-family": "Anonymous Pro",
        "font-size": 4
       }
      },
      "text-base": {
       "color": "19cc588f-0593-49c9-9f4b-e4d7cc113b1c",
       "font-family": "Lato",
       "font-size": 4
      }
     },
     "1aef2f99-2cff-4dd1-b0d1-ff9f235aca04": {
      "backgrounds": {
       "dc7afa04-bf90-40b1-82a5-726e3cff5267": {
        "background-color": "31af15d2-7e15-44c5-ab5e-e04b16a89eff",
        "id": "dc7afa04-bf90-40b1-82a5-726e3cff5267"
       }
      },
      "id": "1aef2f99-2cff-4dd1-b0d1-ff9f235aca04",
      "palette": {
       "19cc588f-0593-49c9-9f4b-e4d7cc113b1c": {
        "id": "19cc588f-0593-49c9-9f4b-e4d7cc113b1c",
        "rgb": [
         252,
         252,
         252
        ]
       },
       "31af15d2-7e15-44c5-ab5e-e04b16a89eff": {
        "id": "31af15d2-7e15-44c5-ab5e-e04b16a89eff",
        "rgb": [
         68,
         68,
         68
        ]
       },
       "50f92c45-a630-455b-aec3-788680ec7410": {
        "id": "50f92c45-a630-455b-aec3-788680ec7410",
        "rgb": [
         197,
         226,
         245
        ]
       },
       "c5cc3653-2ee1-402a-aba2-7caae1da4f6c": {
        "id": "c5cc3653-2ee1-402a-aba2-7caae1da4f6c",
        "rgb": [
         43,
         126,
         184
        ]
       },
       "efa7f048-9acb-414c-8b04-a26811511a21": {
        "id": "efa7f048-9acb-414c-8b04-a26811511a21",
        "rgb": [
         25.118061674008803,
         73.60176211453744,
         107.4819383259912
        ]
       }
      },
      "rules": {
       "a": {
        "color": "19cc588f-0593-49c9-9f4b-e4d7cc113b1c"
       },
       "blockquote": {
        "color": "50f92c45-a630-455b-aec3-788680ec7410",
        "font-size": 3
       },
       "code": {
        "font-family": "Anonymous Pro"
       },
       "h1": {
        "color": "19cc588f-0593-49c9-9f4b-e4d7cc113b1c",
        "font-family": "Merriweather",
        "font-size": 8
       },
       "h2": {
        "color": "19cc588f-0593-49c9-9f4b-e4d7cc113b1c",
        "font-family": "Merriweather",
        "font-size": 6
       },
       "h3": {
        "color": "50f92c45-a630-455b-aec3-788680ec7410",
        "font-family": "Lato",
        "font-size": 5.5
       },
       "h4": {
        "color": "c5cc3653-2ee1-402a-aba2-7caae1da4f6c",
        "font-family": "Lato",
        "font-size": 5
       },
       "h5": {
        "font-family": "Lato"
       },
       "h6": {
        "font-family": "Lato"
       },
       "h7": {
        "font-family": "Lato"
       },
       "li": {
        "color": "50f92c45-a630-455b-aec3-788680ec7410",
        "font-size": 3.25
       },
       "pre": {
        "font-family": "Anonymous Pro",
        "font-size": 4
       }
      },
      "text-base": {
       "color": "19cc588f-0593-49c9-9f4b-e4d7cc113b1c",
       "font-family": "Lato",
       "font-size": 4
      }
     },
     "4628772b-eb32-4e12-b4d5-8b2c1c259f77": {
      "id": "4628772b-eb32-4e12-b4d5-8b2c1c259f77",
      "palette": {
       "19cc588f-0593-49c9-9f4b-e4d7cc113b1c": {
        "id": "19cc588f-0593-49c9-9f4b-e4d7cc113b1c",
        "rgb": [
         252,
         252,
         252
        ]
       },
       "31af15d2-7e15-44c5-ab5e-e04b16a89eff": {
        "id": "31af15d2-7e15-44c5-ab5e-e04b16a89eff",
        "rgb": [
         68,
         68,
         68
        ]
       },
       "50f92c45-a630-455b-aec3-788680ec7410": {
        "id": "50f92c45-a630-455b-aec3-788680ec7410",
        "rgb": [
         155,
         177,
         192
        ]
       },
       "c5cc3653-2ee1-402a-aba2-7caae1da4f6c": {
        "id": "c5cc3653-2ee1-402a-aba2-7caae1da4f6c",
        "rgb": [
         43,
         126,
         184
        ]
       },
       "efa7f048-9acb-414c-8b04-a26811511a21": {
        "id": "efa7f048-9acb-414c-8b04-a26811511a21",
        "rgb": [
         25.118061674008803,
         73.60176211453744,
         107.4819383259912
        ]
       }
      },
      "rules": {
       "blockquote": {
        "color": "50f92c45-a630-455b-aec3-788680ec7410"
       },
       "code": {
        "font-family": "Anonymous Pro"
       },
       "h1": {
        "color": "c5cc3653-2ee1-402a-aba2-7caae1da4f6c",
        "font-family": "Lato",
        "font-size": 8
       },
       "h2": {
        "color": "c5cc3653-2ee1-402a-aba2-7caae1da4f6c",
        "font-family": "Lato",
        "font-size": 6
       },
       "h3": {
        "color": "50f92c45-a630-455b-aec3-788680ec7410",
        "font-family": "Lato",
        "font-size": 5.5
       },
       "h4": {
        "color": "c5cc3653-2ee1-402a-aba2-7caae1da4f6c",
        "font-family": "Lato",
        "font-size": 5
       },
       "h5": {
        "font-family": "Lato"
       },
       "h6": {
        "font-family": "Lato"
       },
       "h7": {
        "font-family": "Lato"
       },
       "pre": {
        "font-family": "Anonymous Pro",
        "font-size": 4
       }
      },
      "text-base": {
       "font-family": "Merriweather",
       "font-size": 4
      }
     }
    }
   }
  }
 },
 "nbformat": 4,
 "nbformat_minor": 2
}
