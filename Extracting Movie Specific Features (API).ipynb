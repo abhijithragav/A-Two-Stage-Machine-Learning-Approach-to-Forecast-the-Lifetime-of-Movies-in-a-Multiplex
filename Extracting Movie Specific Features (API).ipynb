{
 "cells": [
  {
   "cell_type": "code",
   "execution_count": 136,
   "metadata": {
    "ExecuteTime": {
     "end_time": "2018-12-08T20:38:13.914763Z",
     "start_time": "2018-12-08T20:38:13.910138Z"
    }
   },
   "outputs": [],
   "source": [
    "import pandas as pd\n",
    "from urllib.request import urlopen\n",
    "import json\n",
    "from pprint import pprint"
   ]
  },
  {
   "cell_type": "code",
   "execution_count": 154,
   "metadata": {
    "ExecuteTime": {
     "end_time": "2018-12-08T21:05:11.076530Z",
     "start_time": "2018-12-08T21:05:11.059632Z"
    },
    "scrolled": true
   },
   "outputs": [],
   "source": [
    "# Imported to get the Movie name.\n",
    "df = pd.read_csv(\"Movie_Details.csv\", index_col=0)\n",
    "# apikey=\"dd30f6cc\"\n",
    "apikey = \"8f7a587f\""
   ]
  },
  {
   "cell_type": "code",
   "execution_count": 155,
   "metadata": {
    "ExecuteTime": {
     "end_time": "2018-12-08T21:05:11.247823Z",
     "start_time": "2018-12-08T21:05:11.239235Z"
    }
   },
   "outputs": [],
   "source": [
    "df['Movie'] = df['Movie'].replace(' ', '+', regex=True)"
   ]
  },
  {
   "cell_type": "code",
   "execution_count": 156,
   "metadata": {
    "ExecuteTime": {
     "end_time": "2018-12-08T21:05:11.443048Z",
     "start_time": "2018-12-08T21:05:11.434981Z"
    }
   },
   "outputs": [
    {
     "data": {
      "text/plain": [
       "1119"
      ]
     },
     "execution_count": 156,
     "metadata": {},
     "output_type": "execute_result"
    }
   ],
   "source": [
    "l = df[\"Movie\"].unique()\n",
    "len(l)"
   ]
  },
  {
   "cell_type": "code",
   "execution_count": 157,
   "metadata": {
    "ExecuteTime": {
     "end_time": "2018-12-08T21:05:12.275879Z",
     "start_time": "2018-12-08T21:05:12.269880Z"
    }
   },
   "outputs": [],
   "source": [
    "def details(title):\n",
    "    webUrl = urlopen(\"http://www.omdbapi.com/?T=\"+title+\"&apikey=\"+apikey)\n",
    "    data = webUrl.read()\n",
    "    if(len(data) > 50):\n",
    "        return data\n",
    "    else:\n",
    "        return None"
   ]
  },
  {
   "cell_type": "code",
   "execution_count": null,
   "metadata": {
    "ExecuteTime": {
     "end_time": "2018-12-08T21:09:35.662263Z",
     "start_time": "2018-12-08T21:05:30.590259Z"
    }
   },
   "outputs": [],
   "source": [
    "# dat=[]\n",
    "# counter=0\n",
    "# the max cap for an api key is 1000 per day (so two keys needed) {0-1000 and 1000-1119}\n",
    "for i in range(0, 0):\n",
    "    error = 1\n",
    "    title = l[i]\n",
    "    data = details(title)\n",
    "    if(data != None):\n",
    "        output = data.decode('utf-8')\n",
    "        dic = eval(output)\n",
    "        Title = dic['Title']\n",
    "        Rating = dic['Rated']\n",
    "        Released = dic['Released']\n",
    "        Runtime = dic['Runtime']\n",
    "        Genre = dic['Genre']\n",
    "        Director = dic['Director']\n",
    "        Actors = dic['Actors']\n",
    "        Language = dic['Language']\n",
    "        imdbID = dic['imdbID']\n",
    "        imdbRating = dic['imdbRating']\n",
    "        Country = dic['Country']\n",
    "        Plot = dic[\"Plot\"]\n",
    "        if((dic['Title']).upper() == title.replace('+', ' ')):\n",
    "            error = 0\n",
    "        dat.append((Title, Rating, Released, Runtime, Genre, Director,\n",
    "                    Actors, Language, imdbID, imdbRating, error, Country, Plot))\n",
    "        cols = ['Title', \"Rating\", \"Released\", \"Runtime\", \"Genre\", \"Director\",\n",
    "                \"Actors\", \"Language\", \"imdbID\", \"imdbRating\", \"error\", \"Country\", \"Plot\"]\n",
    "        result = pd.DataFrame(dat, columns=cols)\n",
    "        counter = counter+1\n",
    "\n",
    "    print(counter)"
   ]
  },
  {
   "cell_type": "code",
   "execution_count": 4,
   "metadata": {
    "ExecuteTime": {
     "end_time": "2018-12-09T10:06:45.282532Z",
     "start_time": "2018-12-09T10:06:45.259379Z"
    }
   },
   "outputs": [],
   "source": [
    "result.to_csv(\"api.csv\")"
   ]
  }
 ],
 "metadata": {
  "kernelspec": {
   "display_name": "Python 3",
   "language": "python",
   "name": "python3"
  },
  "language_info": {
   "codemirror_mode": {
    "name": "ipython",
    "version": 3
   },
   "file_extension": ".py",
   "mimetype": "text/x-python",
   "name": "python",
   "nbconvert_exporter": "python",
   "pygments_lexer": "ipython3",
   "version": "3.6.8"
  }
 },
 "nbformat": 4,
 "nbformat_minor": 2
}
